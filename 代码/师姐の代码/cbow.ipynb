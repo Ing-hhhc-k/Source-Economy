{
 "cells": [
  {
   "cell_type": "code",
   "execution_count": 13,
   "id": "9219956b-d994-40bf-9d1b-ee99a3bb81c0",
   "metadata": {},
   "outputs": [],
   "source": [
    "import jieba.analyse,re\n",
    "import jieba.posseg as pseg\n",
    "import pandas \n",
    "corpus=pandas.read_csv(\"D:/电力短缺新闻/15tempdt.csv\")[\"内容\"].tolist()\n",
    "def chinese_word_cut(mytext):\n",
    "     jieba.load_userdict('电力短缺词典.txt');#加入自定义语料库\n",
    "     words = pseg.cut(mytext)\n",
    "     line_List=[]\n",
    "     stopwords = open(\"C:/Users/张珍珍/project/DTMmodel/prepare/stopwords.txt\",'r',encoding='utf-8').read().split('\\n')\n",
    "     #flags=['n','v','a','x','adv','vd','d','b']\n",
    "     #flag_List=wordFlag.split(\",\")\n",
    "     for w in words:\n",
    "        i=0;\n",
    "         #加入自定义语料库\n",
    "        if(w.flag not in ['nt','ns','r','t','m','b','s','f','nr','nz','c'] and len(w.word)>1 and len(re.findall(r'[\\u4e00-\\u9fff]+',w.word))>0 and (not w.word.isnumeric()) and w.word not in stopwords and len(re.findall('\\s',w.word))==0):\n",
    "             line_List.append(w.word)\n",
    "        i=i+1\n",
    "     line=\"\"\n",
    "     for word in line_List:\n",
    "          line+=word+\" \"\n",
    "     return line\n",
    "corpus=pandas.read_csv(\"D:/电力短缺新闻/15tempdt.csv\")[\"内容\"].tolist()\n",
    "texts=[]\n",
    "stopwords = open(\"C:/Users/张珍珍/project/DTMmodel/prepare/stopwords.txt\",'r',encoding='utf-8').read()\n",
    "stopwords = stopwords.split('\\n')"
   ]
  },
  {
   "cell_type": "code",
   "execution_count": 14,
   "id": "ed15529b-ceb0-4b40-9cf9-c4be95652c4f",
   "metadata": {},
   "outputs": [
    {
     "name": "stdout",
     "output_type": "stream",
     "text": [
      "1\n"
     ]
    }
   ],
   "source": [
    "for corpu in corpus:\n",
    "    try:\n",
    "        texts.append(chinese_word_cut(corpu))\n",
    "    except:\n",
    "        print(1)\n",
    "texts1=[j.split(' ') for j in texts]"
   ]
  },
  {
   "cell_type": "code",
   "execution_count": 15,
   "id": "dc39f3f7-6929-4e62-bb27-22251ea92c3a",
   "metadata": {},
   "outputs": [],
   "source": [
    "from gensim.models import Word2Vec\n",
    "import jieba\n",
    "import gensim, logging\n",
    "# 文档集合\n",
    "# 分词处理\n",
    "#logging.basicConfig(format='%(asctime)s : %(levelname)s : %(message)s', level=logging.INFO)\n",
    "vector_sizes=[64,128,256,320,384]\n",
    "windows=[10,15,18]\n",
    "hss=[0,1]\n",
    "ns_exponents=[0.5,0.75,0.9]\n",
    "alphas=[0.001,0.005,0.01,0.015,0.02,0.025,0.03,0.035,0.04,0.045,0.05,0.055,0.06,0.065,0.07,0.075,0.08,0.085,0.09,0.095,0.1,0.2,0.3,0.4,0.5,0.6,0.7,0.8]\n",
    "# 训练Skip-gram模型\n",
    "min_counts=[10,15,20,25]\n",
    "max_vocab_size=70000\n",
    "samples=[0.1,0.2,0.3,0.4,0.5,0.6,0.7,0.8,0.9]\n",
    "sorted_vocab=True\n",
    "batch_words=[128,256,312,512]\n",
    "compute_loss=True\n",
    "sg=1\n",
    "model = Word2Vec(texts1,vector_size = 256, min_count=15, window=10,sg=1)"
   ]
  },
  {
   "cell_type": "code",
   "execution_count": 16,
   "id": "faeb1f41-51fc-415d-bc0f-12490a812e6b",
   "metadata": {},
   "outputs": [],
   "source": [
    "import numpy as np\n",
    "from sklearn.metrics.pairwise import cosine_similarity\n",
    "import pandas as pd\n",
    "vocabulary = list(model.wv.key_to_index.keys())  # 获取词汇表\n",
    "vectors = [model.wv[word] for word in vocabulary]  # 获取词向量\n",
    "similarity_matrix = cosine_similarity(vectors)  # 计算余弦相似度矩阵\n",
    "df = pd.DataFrame(similarity_matrix, columns=vocabulary, index=vocabulary)"
   ]
  },
  {
   "cell_type": "code",
   "execution_count": 19,
   "id": "3cb38b9e-f4ae-4207-a863-735f319d50cd",
   "metadata": {
    "tags": []
   },
   "outputs": [],
   "source": [
    "import re\n",
    "df2=pandas.read_excel(\"D:/电力短缺新闻/种子词.xlsx\")\n",
    "listz=[]\n",
    "for j in set(df2[\"词语\"][0:75]):\n",
    "    list1=[]\n",
    "    for i in set(df2[\"词语\"][0:75]):\n",
    "        try:\n",
    "           list1.append(df.loc[j,i])\n",
    "        except:\n",
    "            list1.append('except')\n",
    "    listz.append(list1)\n",
    "df=pandas.DataFrame(listz)\n",
    "df.index=df.columns=set(df2[\"词语\"][0:75])\n",
    "df.to_csv('D:/电力短缺新闻/余弦矩阵-cbow.csv',encoding='utf-8-sig')"
   ]
  },
  {
   "cell_type": "code",
   "execution_count": 23,
   "id": "5ed11d3e-0a0b-4ffd-937d-7c3ff1d60232",
   "metadata": {},
   "outputs": [
    {
     "name": "stderr",
     "output_type": "stream",
     "text": [
      "C:\\Anaconda3\\lib\\site-packages\\sklearn\\manifold\\_mds.py:299: FutureWarning: The default value of `normalized_stress` will change to `'auto'` in version 1.4. To suppress this warning, manually set the value of `normalized_stress`.\n",
      "  warnings.warn(\n"
     ]
    }
   ],
   "source": [
    "from sklearn.manifold import MDS\n",
    "from matplotlib.font_manager import FontProperties\n",
    "import matplotlib.pyplot as plt\n",
    "mds = MDS(n_components=2, dissimilarity='precomputed')\n",
    "embedded_coordinates = mds.fit_transform(df)"
   ]
  },
  {
   "cell_type": "code",
   "execution_count": 24,
   "id": "629f329e-5e28-4fea-a4c6-74125bcbb736",
   "metadata": {},
   "outputs": [],
   "source": [
    "import csv\n",
    "with open('D:/电力短缺新闻/output-cbow.csv', 'w', newline='') as file:\n",
    "    writer = csv.writer(file)\n",
    "    writer.writerows(embedded_coordinates)"
   ]
  },
  {
   "cell_type": "code",
   "execution_count": 16,
   "id": "1abf578b-9b6c-422c-8d78-31879fe2d3c5",
   "metadata": {
    "tags": []
   },
   "outputs": [],
   "source": [
    "import pymongo\n",
    "import pandas as pd\n",
    "df=pd.read_csv(\"D:/电力短缺新闻/cbow-1.csv\",encoding='utf-8-sig')\n",
    "client = pymongo.MongoClient(\"mongodb://localhost:27017/\")\n",
    "db = client[\"power-shortage\"]\n",
    "collection = db[\"cbow-1\"]\n",
    "for index, row in df.iterrows():\n",
    "    mydict = {}\n",
    "    for k, v in row.items():\n",
    "        mydict[k] = v\n",
    "    collection.insert_one(mydict)"
   ]
  },
  {
   "cell_type": "code",
   "execution_count": 44,
   "id": "32539a9a-722f-4a38-916a-bd7765c09cd2",
   "metadata": {
    "collapsed": true,
    "jupyter": {
     "outputs_hidden": true
    },
    "tags": []
   },
   "outputs": [
    {
     "name": "stdout",
     "output_type": "stream",
     "text": [
      "[[0.23115254 0.        ]\n",
      " [0.23115254 0.        ]\n",
      " [0.23115254 0.        ]\n",
      " [0.23115254 0.        ]\n",
      " [0.23115254 0.        ]\n",
      " [0.23115254 0.        ]\n",
      " [0.23115254 0.        ]\n",
      " [0.23115254 0.        ]\n",
      " [0.23115254 0.        ]\n",
      " [0.23115254 0.        ]\n",
      " [0.23115254 0.        ]\n",
      " [0.23115254 0.        ]\n",
      " [0.23115254 0.        ]\n",
      " [0.23115254 0.        ]\n",
      " [0.23115254 0.        ]\n",
      " [0.23115254 0.        ]\n",
      " [0.23115254 0.        ]\n",
      " [0.23115254 0.        ]\n",
      " [0.23115254 0.        ]\n",
      " [0.23115254 0.        ]\n",
      " [0.23115254 0.        ]\n",
      " [0.23115254 0.        ]\n",
      " [0.23115254 0.        ]\n",
      " [0.23115254 0.        ]\n",
      " [0.23115254 0.        ]\n",
      " [0.23115254 0.        ]\n",
      " [0.23115254 0.        ]\n",
      " [0.23115254 0.        ]\n",
      " [0.23115254 0.        ]\n",
      " [0.23115254 0.        ]\n",
      " [0.23115254 0.        ]\n",
      " [0.23115254 0.        ]\n",
      " [0.23115254 0.        ]\n",
      " [0.23115254 0.        ]\n",
      " [0.23115254 0.        ]\n",
      " [0.23115254 0.        ]\n",
      " [0.23115254 0.        ]\n",
      " [0.23115254 0.        ]\n",
      " [0.23115254 0.        ]\n",
      " [0.23115254 0.        ]\n",
      " [0.23115254 0.        ]\n",
      " [0.23115254 0.        ]\n",
      " [0.23115254 0.        ]\n",
      " [0.23115254 0.        ]\n",
      " [0.23115254 0.        ]\n",
      " [0.23115254 0.        ]\n",
      " [0.23115254 0.        ]\n",
      " [0.23115254 0.        ]\n",
      " [0.23115254 0.        ]\n",
      " [0.23115254 0.        ]\n",
      " [0.23115254 0.        ]\n",
      " [0.23115254 0.        ]\n",
      " [0.23115254 0.        ]\n",
      " [0.23115254 0.        ]\n",
      " [0.23115254 0.        ]\n",
      " [0.23115254 0.        ]\n",
      " [0.23115254 0.        ]\n",
      " [0.23115254 0.        ]\n",
      " [0.23115254 0.        ]\n",
      " [0.23115254 0.        ]\n",
      " [0.23115254 0.        ]\n",
      " [0.23115254 0.        ]\n",
      " [0.23115254 0.        ]\n",
      " [0.23115254 0.        ]\n",
      " [0.23115254 0.        ]\n",
      " [0.23115254 0.        ]\n",
      " [0.23115254 0.        ]]\n"
     ]
    }
   ],
   "source": [
    "import numpy as np\n",
    "\n",
    "def label_propagation(adj_matrix, labels, alpha=0.9, max_iter=100):\n",
    "    \"\"\"\n",
    "    标签传播算法\n",
    "    :param adj_matrix: 转移概率矩阵，shape为(n, n)\n",
    "    :param labels: 初始标签，shape为(n, num_classes)\n",
    "    :param alpha: 随机游走的概率，默认为0.9\n",
    "    :param max_iter: 最大迭代次数，默认为100\n",
    "    :return: 更新后的标签，shape为(n, num_classes)\n",
    "    \"\"\"\n",
    "    n = adj_matrix.shape[0]\n",
    "    labels_new = np.copy(labels)\n",
    "    for _ in range(max_iter):\n",
    "        labels_propagated = alpha * adj_matrix.dot(labels_new)  # 标签传播\n",
    "        labels_new = (1 - alpha) * labels_new + labels_propagated  # 更新标签\n",
    "    return labels_new\n",
    "\n",
    "\n",
    "# 测试代码\n",
    "adj_matrix = np.array(df)\n",
    "labels = np.array(listz)\n",
    "updated_labels = label_propagation(adj_matrix, labels, alpha=0.8 ,max_iter=100)\n",
    "print(updated_labels)"
   ]
  },
  {
   "cell_type": "code",
   "execution_count": 40,
   "id": "742e6e4d-6c7d-4023-81c1-458c8c08ef75",
   "metadata": {
    "collapsed": true,
    "jupyter": {
     "outputs_hidden": true
    },
    "tags": []
   },
   "outputs": [
    {
     "data": {
      "text/plain": [
       "[1,\n",
       " 0,\n",
       " 0,\n",
       " 0,\n",
       " 0,\n",
       " 0,\n",
       " 0,\n",
       " 0,\n",
       " 0,\n",
       " 1,\n",
       " 0,\n",
       " 0,\n",
       " 0,\n",
       " 0,\n",
       " 1,\n",
       " 0,\n",
       " 0,\n",
       " 0,\n",
       " 0,\n",
       " 0,\n",
       " 0,\n",
       " 0,\n",
       " 0,\n",
       " 0,\n",
       " 0,\n",
       " 1,\n",
       " 0,\n",
       " 0,\n",
       " 0,\n",
       " 0,\n",
       " 0,\n",
       " 0,\n",
       " 1,\n",
       " 0,\n",
       " 1,\n",
       " 1,\n",
       " 1,\n",
       " 1,\n",
       " 1,\n",
       " 1,\n",
       " 1,\n",
       " 1,\n",
       " 0,\n",
       " 0,\n",
       " 1,\n",
       " 0,\n",
       " 0,\n",
       " 1,\n",
       " 0,\n",
       " 0,\n",
       " 0,\n",
       " 0,\n",
       " 1,\n",
       " 0,\n",
       " 0,\n",
       " 1,\n",
       " 0,\n",
       " 0,\n",
       " 1,\n",
       " 0,\n",
       " 1,\n",
       " 0,\n",
       " 0,\n",
       " 0,\n",
       " 1,\n",
       " 0,\n",
       " 0]"
      ]
     },
     "execution_count": 40,
     "metadata": {},
     "output_type": "execute_result"
    }
   ],
   "source": [
    "listz=[]\n",
    "df2=pandas.read_excel(\"D:/电力短缺新闻/种子词.xlsx\")\n",
    "for j in df.columns:\n",
    "    if(j in df2[\"词语\"][0:20].tolist()):\n",
    "        listz.append(1)\n",
    "    else:\n",
    "        listz.append(0)\n",
    "listz"
   ]
  },
  {
   "cell_type": "code",
   "execution_count": 41,
   "id": "fdc9e182-7edf-43f0-a0e6-5c6e64af2157",
   "metadata": {
    "collapsed": true,
    "jupyter": {
     "outputs_hidden": true
    },
    "tags": []
   },
   "outputs": [
    {
     "name": "stdout",
     "output_type": "stream",
     "text": [
      "传播后的标签： [[0. 0. 0. ... 0. 0. 0.]\n",
      " [0. 0. 0. ... 0. 0. 0.]\n",
      " [0. 0. 0. ... 0. 0. 0.]\n",
      " ...\n",
      " [0. 0. 0. ... 0. 0. 0.]\n",
      " [0. 0. 0. ... 0. 0. 0.]\n",
      " [0. 0. 0. ... 0. 0. 0.]]\n"
     ]
    }
   ],
   "source": [
    "import numpy as np\n",
    "def label_propagation(trans_matrix, labels, alpha=0.8, max_iter=500, tol=1e-4):\n",
    "    num_nodes = len(trans_matrix)\n",
    "    num_labels = len(labels)\n",
    "\n",
    "    old_labels = np.copy(labels)\n",
    "    iter_count = 0\n",
    "    \n",
    "    while iter_count < max_iter:\n",
    "        iter_count += 1\n",
    "        for i in range(num_nodes):\n",
    "            labels = labels*trans_matrix\n",
    "    return labels\n",
    "# 示例转移概率矩阵和初始标签\n",
    "df=pandas.read_csv(\"D:/电力短缺新闻/标签传播.csv\",index_col='Unnamed: 0')\n",
    "trans_matrix = np.array(df)\n",
    "labels = np.array(listz)  # 初始标签\n",
    "new_labels = label_propagation(trans_matrix, labels)\n",
    "print(\"传播后的标签：\", new_labels)"
   ]
  },
  {
   "cell_type": "code",
   "execution_count": 4,
   "id": "5beababb-6928-4af2-b871-c128e0d780bf",
   "metadata": {},
   "outputs": [],
   "source": [
    "listz=[]\n",
    "import pandas\n",
    "df2=pandas.read_excel(\"D:/电力短缺新闻/种子词.xlsx\")\n",
    "for j in set(df2[\"词语\"][0:75]):\n",
    "    list1=[]\n",
    "    for i in set(df2[\"词语\"][0:75]):\n",
    "        try:\n",
    "           list1.append(df.loc[j,i])\n",
    "        except:\n",
    "            list1.append('except')\n",
    "    listz.append(list1)"
   ]
  }
 ],
 "metadata": {
  "kernelspec": {
   "display_name": "Python 3 (ipykernel)",
   "language": "python",
   "name": "python3"
  },
  "language_info": {
   "codemirror_mode": {
    "name": "ipython",
    "version": 3
   },
   "file_extension": ".py",
   "mimetype": "text/x-python",
   "name": "python",
   "nbconvert_exporter": "python",
   "pygments_lexer": "ipython3",
   "version": "3.9.7"
  }
 },
 "nbformat": 4,
 "nbformat_minor": 5
}
