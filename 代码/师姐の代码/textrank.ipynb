{
 "cells": [
  {
   "cell_type": "code",
   "execution_count": 14,
   "id": "0af59d95-2acc-4519-8d2c-3d75f56d2bf0",
   "metadata": {},
   "outputs": [],
   "source": [
    "import jieba.analyse,re\n",
    "import jieba.posseg as pseg\n",
    "import pandas \n",
    "corpus=pandas.read_csv(\"D:/电力短缺新闻/电力短缺日报.csv\")[\"内容\"].tolist()\n",
    "def chinese_word_cut(mytext):\n",
    "    # jieba.load_userdict('prepare/用户自定义词典.txt');#加入自定义语料库\n",
    "     words = pseg.cut(mytext)\n",
    "     line_List=[]\n",
    "     stopwords = open(\"C:/Users/张珍珍/project/DTMmodel/prepare/stopwords.txt\",'r',encoding='utf-8').read().split('\\n')\n",
    "     #flags=['n','v','a','x','adv','vd','d','b']\n",
    "     #flag_List=wordFlag.split(\",\")\n",
    "     for w in words:\n",
    "        i=0;\n",
    "         #加入自定义语料库\n",
    "        if(w.flag not in ['nt','ns','r','t','m','b','j','s','f','nz','nr','c'] and len(re.findall(r'[\\u4e00-\\u9fff]+',w.word))>0 and (not w.word.isnumeric()) and w.word not in stopwords and len(re.findall('\\s',w.word))==0):\n",
    "             line_List.append(w.word)\n",
    "        i=i+1\n",
    "     line=\"\"\n",
    "     for word in line_List:\n",
    "          line+=word+\" \"\n",
    "     return line\n",
    "corpus=pandas.read_csv(\"D:/电力短缺新闻/电力短缺日报.csv\")[\"内容\"].tolist()\n",
    "texts=[]\n",
    "stopwords = open(\"C:/Users/张珍珍/project/DTMmodel/prepare/stopwords.txt\",'r',encoding='utf-8').read()\n",
    "stopwords = stopwords.split('\\n')"
   ]
  },
  {
   "cell_type": "code",
   "execution_count": 15,
   "id": "e572ac70-172d-48d1-8891-5670de68debb",
   "metadata": {
    "tags": []
   },
   "outputs": [
    {
     "name": "stdout",
     "output_type": "stream",
     "text": [
      "1\n"
     ]
    }
   ],
   "source": [
    "for corpu in corpus:\n",
    "    try:\n",
    "        texts.append(chinese_word_cut(corpu))\n",
    "    except:\n",
    "        print(1)"
   ]
  },
  {
   "cell_type": "code",
   "execution_count": 16,
   "id": "1fa022af-28d4-49a5-a750-2020965137b2",
   "metadata": {
    "tags": []
   },
   "outputs": [
    {
     "ename": "TypeError",
     "evalue": "textrank() got an unexpected keyword argument 'min_freq'",
     "output_type": "error",
     "traceback": [
      "\u001b[1;31m---------------------------------------------------------------------------\u001b[0m",
      "\u001b[1;31mTypeError\u001b[0m                                 Traceback (most recent call last)",
      "\u001b[1;32mC:\\WINDOWS\\TEMP/ipykernel_36580/3331879988.py\u001b[0m in \u001b[0;36m<module>\u001b[1;34m\u001b[0m\n\u001b[0;32m      5\u001b[0m     \u001b[1;32mexcept\u001b[0m\u001b[1;33m:\u001b[0m\u001b[1;33m\u001b[0m\u001b[1;33m\u001b[0m\u001b[0m\n\u001b[0;32m      6\u001b[0m         \u001b[0mprint\u001b[0m\u001b[1;33m(\u001b[0m\u001b[0mj\u001b[0m\u001b[1;33m)\u001b[0m\u001b[1;33m\u001b[0m\u001b[1;33m\u001b[0m\u001b[0m\n\u001b[1;32m----> 7\u001b[1;33m \u001b[0mjieba\u001b[0m\u001b[1;33m.\u001b[0m\u001b[0manalyse\u001b[0m\u001b[1;33m.\u001b[0m\u001b[0mtextrank\u001b[0m\u001b[1;33m(\u001b[0m\u001b[0mcontent\u001b[0m\u001b[1;33m,\u001b[0m\u001b[0mmin_freq\u001b[0m\u001b[1;33m=\u001b[0m\u001b[1;36m20\u001b[0m\u001b[1;33m,\u001b[0m\u001b[0mtopK\u001b[0m\u001b[1;33m=\u001b[0m\u001b[1;36m5000\u001b[0m\u001b[1;33m,\u001b[0m\u001b[0mwithWeight\u001b[0m\u001b[1;33m=\u001b[0m\u001b[1;32mTrue\u001b[0m\u001b[1;33m)\u001b[0m\u001b[1;33m\u001b[0m\u001b[1;33m\u001b[0m\u001b[0m\n\u001b[0m",
      "\u001b[1;31mTypeError\u001b[0m: textrank() got an unexpected keyword argument 'min_freq'"
     ]
    }
   ],
   "source": [
    "content=\"\"\n",
    "for j in texts:\n",
    "    try:\n",
    "        content+=j\n",
    "    except:\n",
    "        print(j)\n",
    "jieba.analyse.textrank(content,topK=5000,withWeight=True)"
   ]
  },
  {
   "cell_type": "code",
   "execution_count": 18,
   "id": "9a324152-d57a-4988-924d-d3e70f6e62d6",
   "metadata": {},
   "outputs": [],
   "source": [
    "\n",
    "\n",
    "# 提取关键词\n",
    "keywords = jieba.analyse.textrank(content, topK=5000, withWeight=True)\n",
    "\n",
    "# 将关键词保存到列表中\n",
    "keyword_list = []\n",
    "weight_list = []\n",
    "for keyword, weight in keywords:\n",
    "    keyword_list.append(keyword)\n",
    "    weight_list.append(weight)\n"
   ]
  },
  {
   "cell_type": "code",
   "execution_count": 20,
   "id": "8e4b1ac7-fbe6-4804-85f6-8c115415299b",
   "metadata": {
    "tags": []
   },
   "outputs": [
    {
     "name": "stdout",
     "output_type": "stream",
     "text": [
      "     Keyword    Weight\n",
      "0         用电  1.000000\n",
      "1         供电  0.762337\n",
      "2         电力  0.499538\n",
      "3         电网  0.456353\n",
      "4         负荷  0.352871\n",
      "...      ...       ...\n",
      "4995      阴雨  0.000938\n",
      "4996      购车  0.000938\n",
      "4997      住院  0.000938\n",
      "4998      甲线  0.000937\n",
      "4999      夺取  0.000937\n",
      "\n",
      "[5000 rows x 2 columns]\n"
     ]
    }
   ],
   "source": [
    "# 创建DataFrame\n",
    "df = pandas.DataFrame({'Keyword': keyword_list, 'Weight': weight_list})\n",
    "\n",
    "# 打印DataFrame\n",
    "print(df)\n"
   ]
  },
  {
   "cell_type": "code",
   "execution_count": 22,
   "id": "662ea73f-7a08-4b74-acd7-d4a40da4f1a2",
   "metadata": {},
   "outputs": [
    {
     "name": "stdout",
     "output_type": "stream",
     "text": [
      "余缺nr\n",
      "调剂n\n"
     ]
    }
   ],
   "source": [
    "for word,flag in pseg.cut(\"余缺调剂\"):\n",
    "    print(word+flag)"
   ]
  },
  {
   "cell_type": "code",
   "execution_count": 21,
   "id": "20581a8b-ddc4-47be-921c-92399472942c",
   "metadata": {},
   "outputs": [],
   "source": [
    "df.to_csv(\"D:/电力短缺新闻/textrank.csv\",encoding='utf-8-sig')"
   ]
  },
  {
   "cell_type": "code",
   "execution_count": null,
   "id": "f09bb95f-171a-4aa7-a2c5-c1f06304a6cf",
   "metadata": {},
   "outputs": [],
   "source": [
    "word_freq = {}\n",
    "for word in words:\n",
    "    word_freq[word] = word_freq.get(word, 0) + 1\n",
    "\n",
    "filtered_words = [word for word, freq in word_freq.items() if freq >= 20]\n",
    "\n",
    "# 组合成字符串\n",
    "filtered_text = ' '.join(filtered_words)\n",
    "\n",
    "# 使用textrank方法提取关键词\n",
    "keywords = jieba.analyse.textrank(filtered_text, topK=10)\n",
    "\n",
    "# 打印提取结果\n",
    "for keyword in keywords:\n",
    "    print(keyword)"
   ]
  },
  {
   "cell_type": "code",
   "execution_count": null,
   "id": "dc3fbf45-6972-4063-8537-000eb10d308a",
   "metadata": {},
   "outputs": [],
   "source": [
    "jieba.analyse.set_stop_words('C:/Users/张珍珍/project/DTMmodel/prepare/stopwords.txt')"
   ]
  },
  {
   "cell_type": "code",
   "execution_count": 5,
   "id": "4895d852-6e71-471b-8efe-303fc85f1e66",
   "metadata": {
    "tags": []
   },
   "outputs": [],
   "source": [
    "import jieba.analyse\n",
    "def get_keyword_weights(text):\n",
    "    keywords_with_weights = jieba.analyse.extract_tags(text, topK=20,withWeight=True)\n",
    "    return {keyword: weight for keyword, weight in keywords_with_weights}\n",
    "keyword_weights_list = []\n",
    "for text in texts:\n",
    "    keyword_weights = get_keyword_weights(text)\n",
    "    keyword_weights_list.append(keyword_weights)\n",
    "keyword_total_weights = {}\n",
    "keyword_counts = {}\n",
    "contents=[]\n",
    "for keyword_weights in keyword_weights_list:\n",
    "    for keyword, weight in keyword_weights.items():\n",
    "        if keyword in keyword_total_weights:\n",
    "            keyword_total_weights[keyword] += weight\n",
    "            keyword_counts[keyword] += 1\n",
    "        else:\n",
    "            keyword_total_weights[keyword] = weight\n",
    "            keyword_counts[keyword] = 1\n",
    "keyword_average_weights = {}\n",
    "for keyword, total_weight in keyword_total_weights.items():\n",
    "    count = keyword_counts[keyword]\n",
    "    average_weight = total_weight / count\n",
    "    keyword_average_weights[keyword] = average_weight\n",
    "for keyword, average_weight in keyword_average_weights.items():\n",
    "    contents.append([keyword,average_weight])"
   ]
  },
  {
   "cell_type": "code",
   "execution_count": null,
   "id": "8d44e008-2b9e-4b0d-b343-a39bb58a5a1c",
   "metadata": {
    "tags": []
   },
   "outputs": [],
   "source": [
    "jieba.analyse.textrank(corpus[3],topK=25,withWeight=True)"
   ]
  },
  {
   "cell_type": "code",
   "execution_count": 6,
   "id": "8deb1fb8-b141-4cdd-a39f-351a171feea5",
   "metadata": {
    "tags": []
   },
   "outputs": [
    {
     "data": {
      "text/html": [
       "<div>\n",
       "<style scoped>\n",
       "    .dataframe tbody tr th:only-of-type {\n",
       "        vertical-align: middle;\n",
       "    }\n",
       "\n",
       "    .dataframe tbody tr th {\n",
       "        vertical-align: top;\n",
       "    }\n",
       "\n",
       "    .dataframe thead th {\n",
       "        text-align: right;\n",
       "    }\n",
       "</style>\n",
       "<table border=\"1\" class=\"dataframe\">\n",
       "  <thead>\n",
       "    <tr style=\"text-align: right;\">\n",
       "      <th></th>\n",
       "      <th>0</th>\n",
       "      <th>1</th>\n",
       "    </tr>\n",
       "  </thead>\n",
       "  <tbody>\n",
       "    <tr>\n",
       "      <th>0</th>\n",
       "      <td>保电</td>\n",
       "      <td>0.568110</td>\n",
       "    </tr>\n",
       "    <tr>\n",
       "      <th>1</th>\n",
       "      <td>进博</td>\n",
       "      <td>0.201489</td>\n",
       "    </tr>\n",
       "    <tr>\n",
       "      <th>2</th>\n",
       "      <td>电网</td>\n",
       "      <td>0.305950</td>\n",
       "    </tr>\n",
       "    <tr>\n",
       "      <th>3</th>\n",
       "      <td>博会</td>\n",
       "      <td>0.441132</td>\n",
       "    </tr>\n",
       "    <tr>\n",
       "      <th>4</th>\n",
       "      <td>巡检</td>\n",
       "      <td>0.261319</td>\n",
       "    </tr>\n",
       "    <tr>\n",
       "      <th>...</th>\n",
       "      <td>...</td>\n",
       "      <td>...</td>\n",
       "    </tr>\n",
       "    <tr>\n",
       "      <th>36957</th>\n",
       "      <td>详情</td>\n",
       "      <td>0.144976</td>\n",
       "    </tr>\n",
       "    <tr>\n",
       "      <th>36958</th>\n",
       "      <td>桥口区</td>\n",
       "      <td>0.202623</td>\n",
       "    </tr>\n",
       "    <tr>\n",
       "      <th>36959</th>\n",
       "      <td>街亭</td>\n",
       "      <td>0.469984</td>\n",
       "    </tr>\n",
       "    <tr>\n",
       "      <th>36960</th>\n",
       "      <td>宗教</td>\n",
       "      <td>0.150885</td>\n",
       "    </tr>\n",
       "    <tr>\n",
       "      <th>36961</th>\n",
       "      <td>烧柴</td>\n",
       "      <td>0.089541</td>\n",
       "    </tr>\n",
       "  </tbody>\n",
       "</table>\n",
       "<p>36962 rows × 2 columns</p>\n",
       "</div>"
      ],
      "text/plain": [
       "         0         1\n",
       "0       保电  0.568110\n",
       "1       进博  0.201489\n",
       "2       电网  0.305950\n",
       "3       博会  0.441132\n",
       "4       巡检  0.261319\n",
       "...    ...       ...\n",
       "36957   详情  0.144976\n",
       "36958  桥口区  0.202623\n",
       "36959   街亭  0.469984\n",
       "36960   宗教  0.150885\n",
       "36961   烧柴  0.089541\n",
       "\n",
       "[36962 rows x 2 columns]"
      ]
     },
     "execution_count": 6,
     "metadata": {},
     "output_type": "execute_result"
    }
   ],
   "source": [
    "import pandas\n",
    "df=pandas.DataFrame(contents)\n",
    "df"
   ]
  },
  {
   "cell_type": "code",
   "execution_count": null,
   "id": "47dffb00-526c-4f47-b3f0-07b182953cbd",
   "metadata": {},
   "outputs": [],
   "source": []
  }
 ],
 "metadata": {
  "kernelspec": {
   "display_name": "Python 3 (ipykernel)",
   "language": "python",
   "name": "python3"
  },
  "language_info": {
   "codemirror_mode": {
    "name": "ipython",
    "version": 3
   },
   "file_extension": ".py",
   "mimetype": "text/x-python",
   "name": "python",
   "nbconvert_exporter": "python",
   "pygments_lexer": "ipython3",
   "version": "3.9.7"
  }
 },
 "nbformat": 4,
 "nbformat_minor": 5
}
